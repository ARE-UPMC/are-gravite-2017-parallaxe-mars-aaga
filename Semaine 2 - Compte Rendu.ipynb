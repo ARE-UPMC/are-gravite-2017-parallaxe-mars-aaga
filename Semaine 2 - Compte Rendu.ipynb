{
 "cells": [
  {
   "cell_type": "markdown",
   "metadata": {},
   "source": [
    "# ARE GRAVITE PARALLAXE DE MARS"
   ]
  },
  {
   "cell_type": "markdown",
   "metadata": {},
   "source": [
    "**Guillaume, Amine, Adel, Antoine**"
   ]
  },
  {
   "cell_type": "markdown",
   "metadata": {},
   "source": [
    "### **Semaine 2**"
   ]
  },
  {
   "cell_type": "markdown",
   "metadata": {},
   "source": [
    "Cette deuxième semaine, nous avons fait des recherches plus poussées à nos interrogations sur le problème physique. Et, nous avons profité du point de vue informatique pour réprésenter tout simplement le parallaxe sur un schéma, fait en python.\n",
    "\n",
    "• Au niveau <span style=\"color:brown\">physique</span>, nous avons étudié l'évolution des methodes de calcul du parallaxe, à travers différentes méthodes, pour atteindre des niveaux de précision de plus en plus précises.  \n",
    "\n",
    "• Le Parallaxe, est le fait d'observer un objet, (dans ce cas, la planète Mars), de deux positions différentes, soit par exemple, une position au pole sud et une autre au pole nord, et de regarder ainsi la planète Mars. L'effet du changement sur la perception de ce que voit l'observateur est ainsi appelé le Parallaxe.\n",
    "\n",
    "\n",
    "\n",
    "\n",
    "• Une longueur de référence doit être utilisée pour calculer le parallaxe.\n",
    "\n",
    "→ Pour les Astres du système solaire, c'est le rayon de la Terre qui sert de référence, on parle ici de **parallaxe diurne**. \n",
    "\n",
    "→ Pour les astres exterieurs du système solaire, on prends pour référence le demi grand axe de l'orbite terrestre, soit une UA. On parle ici du **parallaxe annuelle**.\n",
    "\n",
    "• Comme Mars est dans le système solaire, nous allons nous interesser au Parallaxe Diurne pour son calcul.\n",
    "L'objectif du calcul du parallaxe de Mars, en se servant de deux points d'observations, (soit par exemple, le pole nord et le pole sud), est d'obtenir, la distance Terre/Mars.\n",
    "Lors du calcul du parallaxe de Mars, un mouvement rétrograde fut observé. Ainsi certaines methodes anciennes pour calculer le parallaxe d'une planète pouvait poser problème, si celle ci avais un mouvement rétrograde. Approchée par Hipparque un grec avec sa théorie des épicycles.\n",
    "\n",
    "*Cause du mouvement rétrograde : Mars + Terre négligeable face au soleil supposé fixe. Trajectoire de Mars et Terre par rapport au soleil supposé circulaire, (elliptique se rapprochant d'un cercle) \n",
    "Cette différence permets d'observer un mouvement rétrograde.*\n",
    "\n",
    "\n",
    "| Planètes       | Terre       |  Mars    |  Soleil    |\n",
    "| ------------- |: -------------: | ---------: |  ---------:|\n",
    "| Révolution    |    365,3 Jours  |686,9 Jours    |   |\n",
    "| Excentricité  |        0,016        |0.093 |     |\n",
    "| Masse  |        5,972×10^24 kg     |6,39×10^23 kg |  1,989×10^30 kg  |"
   ]
  },
  {
   "cell_type": "markdown",
   "metadata": {},
   "source": [
    "• Au niveau du <span style=\"color:green\">podcast</span>, nous avons mis en place un plan, pour le déroulement de la suite. La vidéo kinesthésique, à été découpée, afin de ne mettre que ce qui était utile.\n",
    "\n",
    "Ainsi, en tout premier lieu, nous commencerons par definir le sujet principal (Parallaxe de Mars), ainsi que des brefs passages historiques importants à préciser au niveau de l'évolution de son calcul. Des détails par rapport à son fonctionnement, et un schéma fait en python.\n",
    "Ensuite, nous ferons un point sur le mouvement rétrograde de la planète mars, qui apparait lors du referentiel géocentrique, (ce sera l'objectif de la prochaine scéance niveau informatique), et au niveau visuel explicatif, nous pourrons mettre la vidéo kinesthésiste."
   ]
  },
  {
   "cell_type": "markdown",
   "metadata": {},
   "source": [
    "• Au niveau <span style=\"color:orange\">informatique</span> nous avons mis en place un schéma en python définissant le parallaxe."
   ]
  },
  {
   "cell_type": "code",
   "execution_count": 5,
   "metadata": {
    "collapsed": false
   },
   "outputs": [
    {
     "data": {
      "image/png": "[encoded data removed]",
      "text/plain": [
       "<matplotlib.figure.Figure at 0x1a4191460b8>"
      ]
     },
     "metadata": {},
     "output_type": "display_data"
    }
   ],
   "source": [
    "import numpy as np\n",
    "from math import *\n",
    "import matplotlib.lines as mlines\n",
    "from matplotlib import pyplot as plt\n",
    "from matplotlib import animation\n",
    "ax = plt.axes(xlim=(0, 50), ylim=(0, 40))\n",
    "ax.set_title(\"Rotation\", va='bottom')  # Création du repère \n",
    "def Terre(Rayon):               \n",
    "    Terre= plt.Circle((15, 20), Rayon, fc='blue')\n",
    "    return plt.gca().add_patch(Terre)    \n",
    "def Mars(Rayon2): \n",
    "    Mars=plt.Circle((40, 20), Rayon2, fc='red')\n",
    "    return plt.gca().add_patch(Mars)\n",
    "Terre(5)\n",
    "Mars(2)\n",
    "\n",
    "x1, y1 = [18,40],[24,20]\n",
    "x2, y2 = [19.75, 40], [21, 20]\n",
    "x=[15,40]\n",
    "y=[20,20]\n",
    "x_rayonT=[15,15]\n",
    "y_rayonT=[20,15]\n",
    "segment_A1=[20,40]   \n",
    "segment_A11=[15,30]\n",
    "segment_A2=[20,40]\n",
    "segment_A22=[15,110]\n",
    "# Ajoutons maintenant des notations dans le schéma afin de le rendre compréhensible.\n",
    "plt.annotate(\"Terre\", xy = (12.5, 12), xytext = (15, 15), textcoords = 'offset points')\n",
    "plt.annotate(\"Mars\", xy = (37, 15), xytext = (15, 15), textcoords = 'offset points')\n",
    "plt.annotate(\"Distance d\", xy = (22, 17), xytext = (22, 17), textcoords = 'offset points')\n",
    "plt.annotate(\"A2\", xy = (20, 22), xytext = (0, 0), textcoords = 'offset points')\n",
    "plt.annotate(\"A1\", xy = (18, 25), xytext = (0, 0), textcoords = 'offset points')\n",
    "plt.annotate(\"P\", xy = (40, 20.75), xytext = (0, 0), textcoords = 'offset points')\n",
    "plt.annotate(\"O\", xy = (14.5, 20.5), xytext = (0, 0), textcoords = 'offset points')\n",
    "plt.annotate(\"R\", xy= (12, 15), xytext = (15, 15), textcoords = 'offset points')\n",
    "plt.annotate(\"E1\", xy = (30.5, 39), xytext = (0, 0), textcoords = 'offset points')\n",
    "plt.annotate(\"E2\", xy= (46.5, 26), xytext = (15, 15), textcoords = 'offset points')\n",
    "\n",
    "\n",
    "plt.plot(x1, y1,x2,y2,marker = 'o')\n",
    "plt.plot(x_rayonT,y_rayonT,'--')\n",
    "plt.plot(x,y,'--')\n",
    "plt.plot(segment_A11,segment_A1)\n",
    "plt.plot(segment_A22,segment_A1)\n",
    "plt.savefig('DashedLine_01.png')\n",
    "plt.show()\n",
    "\n",
    "\n"
   ]
  },
  {
   "cell_type": "markdown",
   "metadata": {},
   "source": [
    "**Calcul du parallaxe de mars :**\n",
    "Afin de calculer le parallaxe de mars, il faut réussir a trouver l'angle formé par les point P, A1  , E1 ainsi que l'angle P,A2, E2. Le parallaxe sera alors l'addition de ces deux angles. Ceci permettra par la suite de calculer la distance Terre-Mars."
   ]
  },
  {
   "cell_type": "markdown",
   "metadata": {},
   "source": [
    " "
   ]
  },
  {
   "cell_type": "markdown",
   "metadata": {},
   "source": [
    "**Objectif prochaine séance**\n",
    "\n",
    "Ainsi pour la prochaine séance, nous allons avancer le code afin d'obtenir la trajectoire de Mars dans le référentiel géocentrique. \n",
    "\n",
    "Nous allons commencer à mettre en forme niveau montage, maintenant qu'on commence à avoir du contenu informatif et descriptif, le podcast. "
   ]
  }
 ],
 "metadata": {
  "kernelspec": {
   "display_name": "Python [default]",
   "language": "python",
   "name": "python3"
  },
  "language_info": {
   "codemirror_mode": {
    "name": "ipython",
    "version": 3
   },
   "file_extension": ".py",
   "mimetype": "text/x-python",
   "name": "python",
   "nbconvert_exporter": "python",
   "pygments_lexer": "ipython3",
   "version": "3.5.2"
  }
 },
 "nbformat": 4,
 "nbformat_minor": 1
}
