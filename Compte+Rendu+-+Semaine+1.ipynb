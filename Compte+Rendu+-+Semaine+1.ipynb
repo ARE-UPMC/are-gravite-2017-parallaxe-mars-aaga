{
 "cells": [
  {
   "cell_type": "markdown",
   "metadata": {},
   "source": [
    "# ARE GRAVITE PARALLAXE DE MARS"
   ]
  },
  {
   "cell_type": "markdown",
   "metadata": {},
   "source": [
    "**Guillaume, Amine, Adel, Antoine**"
   ]
  },
  {
   "cell_type": "markdown",
   "metadata": {},
   "source": [
    "**Semaine 1**"
   ]
  },
  {
   "cell_type": "markdown",
   "metadata": {},
   "source": [
    "Cette première semaine, nous nous sommes consacrés à la mise en place de la problémtatique, et du partage des tâches en fonctions de ce chacun préférait en terme de matière, que ce soit au niveau informatique ou physique, et bien évidemment au niveau du podcast.\n",
    "\n",
    "Au niveau Informatique, nous avons mis en place une première version de code, ou nous avons pu faire tourner un disque autour d'un autre disque de même taille. Tout celà positionné sur un graphique avec des axes légendés. Puis nous avons pu faire un deuxième graphique sur lequel on a tracé deux cercles, représentant la ligne sur laquelle la rotation des deux disques devraient se faire sur les cercles respectifs, représentant chacun une planète dont Mars. \n",
    "\n",
    "Au niveau Physique, des recherches ont été faite sur la signification du problème posé, pour savoir comment répondre informatiquement à cette problématique.\n",
    "\n",
    "Au niveau podcast, nous sommes allés sur le site ou les videos étaient stockées, et nous avons commencé a la préparation du podcast, récuperer les données que l'on pourrait utiliser pour la video. Et commencer à découper les parties interessantes que l'on pourra inclure dans ce podcast, le montage se fera bien évidemment à la fin quand on aura toutes les données suffisantes pour."
   ]
  },
  {
   "cell_type": "markdown",
   "metadata": {},
   "source": [
    " "
   ]
  },
  {
   "cell_type": "code",
   "execution_count": 2,
   "metadata": {
    "collapsed": false
   },
   "outputs": [
    {
     "data": {
      "image/png": "[encoded data removed]",
      "text/plain": [
       "<matplotlib.figure.Figure at 0x1e007670e80>"
      ]
     },
     "metadata": {},
     "output_type": "display_data"
    },
    {
     "data": {
      "text/plain": [
       "<matplotlib.figure.Figure at 0x1e007b0e6a0>"
      ]
     },
     "metadata": {},
     "output_type": "display_data"
    }
   ],
   "source": [
    "import numpy as np\n",
    "from math import *\n",
    "from matplotlib import pyplot as plt\n",
    "from matplotlib import animation\n",
    "\n",
    "ax = plt.axes(xlim=(0, 20), ylim=(0, 20))\n",
    "ax.set_title(\"Rotation\", va='bottom') # Création du repère\n",
    "\n",
    "def cercle1(Rayon): # Programme definissant l'orbite du point que l'on veut assimiler a une planète\n",
    "    cercle1 = plt.Circle((10, 10), Rayon, fc='white')\n",
    "    return plt.gca().add_patch(cercle1)\n",
    "\n",
    "cercle1(3)\n",
    "\n",
    "fig=plt.figure()\n",
    "fig.set_dpi(100)\n",
    "fig.set_size_inches(7, 6.5)\n",
    "circle = plt.Circle((0, 0), 0.2, fc='pink')\n",
    "x_centre_point_initial=10\n",
    "y_centre_point_initial=10\n",
    " \n",
    "def init(): # Programme d'Initialisation de l'animation\n",
    "    circle.center=(x_centre_point_initial, y_centre_point_initial)\n",
    "    ax.add_patch(circle)\n",
    "    return circle,\n",
    " \n",
    "def animate(i): #Programme permettant l'animation\n",
    "    x, y= circle.center\n",
    "    x = x_centre_point_initial+cos(radians(i))*3 # Le coefficient 3 doit être le même que le Rayon\n",
    "    y = y_centre_point_initial+sin(radians(i))*3# Le coefficient 3 doit être le même que le Rayon\n",
    "    circle.center=(x, y)\n",
    "    return circle,\n",
    "\n",
    "ani = animation.FuncAnimation(fig, animate, init_func=init,interval=20, blit=True)\n",
    "\n",
    "plt.show() "
   ]
  },
  {
   "cell_type": "code",
   "execution_count": null,
   "metadata": {
    "collapsed": true
   },
   "outputs": [],
   "source": []
  },
  {
   "cell_type": "code",
   "execution_count": null,
   "metadata": {
    "collapsed": true
   },
   "outputs": [],
   "source": []
  }
 ],
 "metadata": {
  "anaconda-cloud": {},
  "kernelspec": {
   "display_name": "Python [default]",
   "language": "python",
   "name": "python3"
  },
  "language_info": {
   "codemirror_mode": {
    "name": "ipython",
    "version": 3
   },
   "file_extension": ".py",
   "mimetype": "text/x-python",
   "name": "python",
   "nbconvert_exporter": "python",
   "pygments_lexer": "ipython3",
   "version": "3.5.2"
  }
 },
 "nbformat": 4,
 "nbformat_minor": 1
}
